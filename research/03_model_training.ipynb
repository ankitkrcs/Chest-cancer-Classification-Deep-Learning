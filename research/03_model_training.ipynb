{
 "cells": [
  {
   "cell_type": "code",
   "execution_count": 2,
   "metadata": {},
   "outputs": [],
   "source": [
    "import os\n",
    "os.chdir(\"../\")"
   ]
  },
  {
   "cell_type": "code",
   "execution_count": 3,
   "metadata": {},
   "outputs": [],
   "source": [
    "from dataclasses import dataclass\n",
    "from pathlib import Path\n",
    "\n",
    "\n",
    "@dataclass(frozen=True)\n",
    "class TrainingConfig:\n",
    "    root_dir: Path\n",
    "    trained_model_path: Path\n",
    "    updated_base_model_path: Path\n",
    "    training_data: Path\n",
    "    params_epochs: int\n",
    "    params_batch_size: int\n",
    "    params_is_augmentation: bool\n",
    "    params_image_size: list\n"
   ]
  },
  {
   "cell_type": "code",
   "execution_count": 12,
   "metadata": {},
   "outputs": [],
   "source": [
    "from src.CNNclassifier.constants import *\n",
    "from src.CNNclassifier.utils.common import read_yaml, create_directories\n",
    "import tensorflow as tf"
   ]
  },
  {
   "cell_type": "code",
   "execution_count": 13,
   "metadata": {},
   "outputs": [
    {
     "ename": "NameError",
     "evalue": "name 'CONFIG_FILE_PATH' is not defined",
     "output_type": "error",
     "traceback": [
      "\u001b[1;31m---------------------------------------------------------------------------\u001b[0m",
      "\u001b[1;31mNameError\u001b[0m                                 Traceback (most recent call last)",
      "Cell \u001b[1;32mIn[13], line 1\u001b[0m\n\u001b[1;32m----> 1\u001b[0m \u001b[38;5;28;01mclass\u001b[39;00m \u001b[38;5;21;01mConfigurationManager\u001b[39;00m:\n\u001b[0;32m      2\u001b[0m     \u001b[38;5;28;01mdef\u001b[39;00m \u001b[38;5;21m__init__\u001b[39m(\n\u001b[0;32m      3\u001b[0m         \u001b[38;5;28mself\u001b[39m,\n\u001b[0;32m      4\u001b[0m         config_filepath\u001b[38;5;241m=\u001b[39mCONFIG_FILE_PATH,\n\u001b[0;32m      5\u001b[0m         params_filepath\u001b[38;5;241m=\u001b[39mPARAMS_FILE_PATH):\n\u001b[0;32m      7\u001b[0m         \u001b[38;5;28mself\u001b[39m\u001b[38;5;241m.\u001b[39mconfig \u001b[38;5;241m=\u001b[39m read_yaml(config_filepath)\n",
      "Cell \u001b[1;32mIn[13], line 4\u001b[0m, in \u001b[0;36mConfigurationManager\u001b[1;34m()\u001b[0m\n\u001b[0;32m      1\u001b[0m \u001b[38;5;28;01mclass\u001b[39;00m \u001b[38;5;21;01mConfigurationManager\u001b[39;00m:\n\u001b[0;32m      2\u001b[0m     \u001b[38;5;28;01mdef\u001b[39;00m \u001b[38;5;21m__init__\u001b[39m(\n\u001b[0;32m      3\u001b[0m         \u001b[38;5;28mself\u001b[39m,\n\u001b[1;32m----> 4\u001b[0m         config_filepath\u001b[38;5;241m=\u001b[39m\u001b[43mCONFIG_FILE_PATH\u001b[49m,\n\u001b[0;32m      5\u001b[0m         params_filepath\u001b[38;5;241m=\u001b[39mPARAMS_FILE_PATH):\n\u001b[0;32m      7\u001b[0m         \u001b[38;5;28mself\u001b[39m\u001b[38;5;241m.\u001b[39mconfig \u001b[38;5;241m=\u001b[39m read_yaml(config_filepath)\n\u001b[0;32m      8\u001b[0m         \u001b[38;5;28mself\u001b[39m\u001b[38;5;241m.\u001b[39mparams \u001b[38;5;241m=\u001b[39m read_yaml(params_filepath)\n",
      "\u001b[1;31mNameError\u001b[0m: name 'CONFIG_FILE_PATH' is not defined"
     ]
    }
   ],
   "source": [
    "class ConfigurationManager:\n",
    "    def __init__(\n",
    "        self,\n",
    "        config_filepath = CONFIG_FILE_PATH,\n",
    "        params_filepath = PARAMS_FILE_PATH):\n",
    "\n",
    "        self.config = read_yaml(config_filepath)\n",
    "        self.params = read_yaml(params_filepath)\n",
    "\n",
    "        create_directories([self.config.artifacts_root])\n",
    "\n",
    "    def get_training_config(self) -> TrainingConfig:\n",
    "            training = self.config.training\n",
    "            prepare_base_model = self.config.prepare_base_model\n",
    "            params = self.params\n",
    "            training_data = os.path.join(self.config.data_ingestion.unzip_dir, \"Chest-CT-Scan-data\")\n",
    "            create_directories([\n",
    "                Path(training.root_dir)\n",
    "            ])\n",
    "\n",
    "            training_config = TrainingConfig(\n",
    "                root_dir=Path(training.root_dir),\n",
    "                trained_model_path=Path(training.trained_model_path),\n",
    "                updated_base_model_path=Path(prepare_base_model.updated_base_model_path),\n",
    "                training_data=Path(training_data),\n",
    "                params_epochs=params.EPOCHS,\n",
    "                params_batch_size=params.BATCH_SIZE,\n",
    "                params_is_augmentation=params.AUGMENTATION,\n",
    "                params_image_size=params.IMAGE_SIZE\n",
    "            )\n",
    "\n",
    "            return training_config"
   ]
  },
  {
   "cell_type": "code",
   "execution_count": 14,
   "metadata": {},
   "outputs": [],
   "source": [
    "import os\n",
    "import urllib.request as request\n",
    "from zipfile import ZipFile\n",
    "import tensorflow as tf\n",
    "import time"
   ]
  },
  {
   "cell_type": "code",
   "execution_count": 16,
   "metadata": {},
   "outputs": [],
   "source": [
    "class Training:\n",
    "        def __init__(self, config: TrainingConfig):\n",
    "            self.config = config\n",
    "\n",
    "        \n",
    "        def get_base_model(self):\n",
    "            self.model = tf.keras.models.load_model(\n",
    "                self.config.updated_base_model_path\n",
    "            )\n",
    "\n",
    "        def train_valid_generator(self):\n",
    "\n",
    "            datagenerator_kwargs = dict(\n",
    "                rescale = 1./255,\n",
    "                validation_split=0.20\n",
    "            )\n",
    "\n",
    "            dataflow_kwargs = dict(\n",
    "                target_size=self.config.params_image_size[:-1],\n",
    "                batch_size=self.config.params_batch_size,\n",
    "                interpolation=\"bilinear\"\n",
    "            )\n",
    "\n",
    "            valid_datagenerator = tf.keras.preprocessing.image.ImageDataGenerator(\n",
    "                **datagenerator_kwargs\n",
    "            )\n",
    "\n",
    "            self.valid_generator = valid_datagenerator.flow_from_directory(\n",
    "                directory=self.config.training_data,\n",
    "                subset=\"validation\",\n",
    "                shuffle=False,\n",
    "                **dataflow_kwargs\n",
    "            )\n",
    "\n",
    "            if self.config.params_is_augmentation:\n",
    "                train_datagenerator = tf.keras.preprocessing.image.ImageDataGenerator(\n",
    "                    rotation_range=40,\n",
    "                    horizontal_flip=True,\n",
    "                    width_shift_range=0.2,\n",
    "                    height_shift_range=0.2,\n",
    "                    shear_range=0.2,\n",
    "                    zoom_range=0.2,\n",
    "                    **datagenerator_kwargs\n",
    "                )\n",
    "            else:\n",
    "                train_datagenerator = valid_datagenerator\n",
    "\n",
    "            self.train_generator = train_datagenerator.flow_from_directory(\n",
    "                directory=self.config.training_data,\n",
    "                subset=\"training\",\n",
    "                shuffle=True,\n",
    "                **dataflow_kwargs\n",
    "            )\n",
    "\n",
    "        \n",
    "        @staticmethod\n",
    "        def save_model(path: Path, model: tf.keras.Model):\n",
    "            model.save(path)\n",
    "\n",
    "\n",
    "\n",
    "        \n",
    "        def train(self):\n",
    "            self.steps_per_epoch = self.train_generator.samples // self.train_generator.batch_size\n",
    "            self.validation_steps = self.valid_generator.samples // self.valid_generator.batch_size\n",
    "\n",
    "            self.model.fit(\n",
    "                self.train_generator,\n",
    "                epochs=self.config.params_epochs,\n",
    "                steps_per_epoch=self.steps_per_epoch,\n",
    "                validation_steps=self.validation_steps,\n",
    "                validation_data=self.valid_generator\n",
    "            )\n",
    "\n",
    "            self.save_model(\n",
    "                path=self.config.trained_model_path,\n",
    "                model=self.model\n",
    "            )"
   ]
  },
  {
   "cell_type": "code",
   "execution_count": 17,
   "metadata": {},
   "outputs": [
    {
     "ename": "NameError",
     "evalue": "name 'ConfigurationManager' is not defined",
     "output_type": "error",
     "traceback": [
      "\u001b[1;31m---------------------------------------------------------------------------\u001b[0m",
      "\u001b[1;31mNameError\u001b[0m                                 Traceback (most recent call last)",
      "Cell \u001b[1;32mIn[17], line 10\u001b[0m\n\u001b[0;32m      7\u001b[0m     training\u001b[38;5;241m.\u001b[39mtrain()\n\u001b[0;32m      9\u001b[0m \u001b[38;5;28;01mexcept\u001b[39;00m \u001b[38;5;167;01mException\u001b[39;00m \u001b[38;5;28;01mas\u001b[39;00m e:\n\u001b[1;32m---> 10\u001b[0m     \u001b[38;5;28;01mraise\u001b[39;00m e\n",
      "Cell \u001b[1;32mIn[17], line 2\u001b[0m\n\u001b[0;32m      1\u001b[0m \u001b[38;5;28;01mtry\u001b[39;00m:\n\u001b[1;32m----> 2\u001b[0m     config \u001b[38;5;241m=\u001b[39m \u001b[43mConfigurationManager\u001b[49m()\n\u001b[0;32m      3\u001b[0m     training_config \u001b[38;5;241m=\u001b[39m config\u001b[38;5;241m.\u001b[39mget_training_config()\n\u001b[0;32m      4\u001b[0m     training \u001b[38;5;241m=\u001b[39m Training(config\u001b[38;5;241m=\u001b[39mtraining_config)\n",
      "\u001b[1;31mNameError\u001b[0m: name 'ConfigurationManager' is not defined"
     ]
    }
   ],
   "source": [
    "try:\n",
    "    config = ConfigurationManager()\n",
    "    training_config = config.get_training_config()\n",
    "    training = Training(config=training_config)\n",
    "    training.get_base_model()\n",
    "    training.train_valid_generator()\n",
    "    training.train()\n",
    "    \n",
    "except Exception as e:\n",
    "    raise e"
   ]
  },
  {
   "cell_type": "code",
   "execution_count": null,
   "metadata": {},
   "outputs": [],
   "source": []
  }
 ],
 "metadata": {
  "kernelspec": {
   "display_name": "venv",
   "language": "python",
   "name": "python3"
  },
  "language_info": {
   "codemirror_mode": {
    "name": "ipython",
    "version": 3
   },
   "file_extension": ".py",
   "mimetype": "text/x-python",
   "name": "python",
   "nbconvert_exporter": "python",
   "pygments_lexer": "ipython3",
   "version": "3.10.6"
  }
 },
 "nbformat": 4,
 "nbformat_minor": 2
}
