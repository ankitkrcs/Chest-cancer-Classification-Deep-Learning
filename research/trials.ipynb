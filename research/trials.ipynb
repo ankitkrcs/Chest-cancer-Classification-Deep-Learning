{
 "cells": [
  {
   "cell_type": "code",
   "execution_count": null,
   "metadata": {},
   "outputs": [],
   "source": [
    "## Download data"
   ]
  },
  {
   "cell_type": "code",
   "execution_count": 1,
   "metadata": {},
   "outputs": [],
   "source": [
    "import gdown"
   ]
  },
  {
   "cell_type": "code",
   "execution_count": 3,
   "metadata": {},
   "outputs": [],
   "source": [
    "url = \"https://drive.google.com/file/d/1zmWU_oRfFSn-m14t3RCzPAeRE2GejN-Y/view?usp=sharing\""
   ]
  },
  {
   "cell_type": "code",
   "execution_count": 6,
   "metadata": {},
   "outputs": [],
   "source": [
    "file_id= \"1zmWU_oRfFSn-m14t3RCzPAeRE2GejN-Y\""
   ]
  },
  {
   "cell_type": "code",
   "execution_count": 7,
   "metadata": {},
   "outputs": [
    {
     "name": "stderr",
     "output_type": "stream",
     "text": [
      "Downloading...\n",
      "From (uriginal): https://drive.google.com/uc?/export=download&id=1zmWU_oRfFSn-m14t3RCzPAeRE2GejN-Y\n",
      "From (redirected): https://drive.google.com/uc?/export=download&id=1zmWU_oRfFSn-m14t3RCzPAeRE2GejN-Y&confirm=t&uuid=9da4a416-d28b-41a7-9f92-9845b4f91bef\n",
      "To: d:\\Data Science\\DEEP Learning\\Chest Cancer\\Chest-cancer-Classification-MlFlow-DVC\\research\\data.zip\n",
      "100%|██████████| 49.0M/49.0M [00:07<00:00, 6.97MB/s]\n"
     ]
    },
    {
     "data": {
      "text/plain": [
       "'data.zip'"
      ]
     },
     "execution_count": 7,
     "metadata": {},
     "output_type": "execute_result"
    }
   ],
   "source": [
    "prefix = 'https://drive.google.com/uc?/export=download&id='\n",
    "gdown.download(prefix+file_id,\"data.zip\")"
   ]
  }
 ],
 "metadata": {
  "kernelspec": {
   "display_name": "venv",
   "language": "python",
   "name": "python3"
  },
  "language_info": {
   "codemirror_mode": {
    "name": "ipython",
    "version": 3
   },
   "file_extension": ".py",
   "mimetype": "text/x-python",
   "name": "python",
   "nbconvert_exporter": "python",
   "pygments_lexer": "ipython3",
   "version": "3.10.6"
  }
 },
 "nbformat": 4,
 "nbformat_minor": 2
}
